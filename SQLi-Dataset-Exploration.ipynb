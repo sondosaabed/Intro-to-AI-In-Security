{
 "cells": [
  {
   "cell_type": "markdown",
   "id": "f4af7df8",
   "metadata": {
    "papermill": {
     "duration": 0.003105,
     "end_time": "2024-05-02T14:42:02.001068",
     "exception": false,
     "start_time": "2024-05-02T14:42:01.997963",
     "status": "completed"
    },
    "tags": []
   },
   "source": [
    "## SQLi Dataset Exploration"
   ]
  },
  {
   "cell_type": "markdown",
   "id": "d42aa8e3",
   "metadata": {
    "papermill": {
     "duration": 0.002578,
     "end_time": "2024-05-02T14:42:02.007009",
     "exception": false,
     "start_time": "2024-05-02T14:42:02.004431",
     "status": "completed"
    },
    "tags": []
   },
   "source": [
    "### Objectives\n",
    "- Learn about SQL injections.\n",
    "- Explore SQLi techniques"
   ]
  },
  {
   "cell_type": "markdown",
   "id": "1413c5cf",
   "metadata": {
    "papermill": {
     "duration": 0.003155,
     "end_time": "2024-05-02T14:42:02.012961",
     "exception": false,
     "start_time": "2024-05-02T14:42:02.009806",
     "status": "completed"
    },
    "tags": []
   },
   "source": [
    "### Theory\n",
    "\n",
    "The **SQL injection** is a code injection technique used to attack data-driven applications, in which malicious SQL statements are inserted in a way that it is executed.\n",
    "\n",
    "There are diffrent **types of SQL injection attacks**:\n",
    "- **Union-based SQLi:** 2 or more SQLi queries combined.\n",
    "- **Error-based SQLi:** invalid query input that causes failure\n",
    "- **Blind-based SQLi:** attacker choses moves based ib questions asked for the database (a type of DDos attacks) and it's the worse between the 3 of them.\n",
    "\n",
    "![image](https://github.com/sondosaabed/Intro-to-GAN/assets/65151701/30662fc6-fa83-45d0-88bc-4fe4e2f0b396)\n",
    "\n",
    "sources: https://www.researchgate.net/publication/364935556_A_comprehensive_review_of_methods_for_SQL_injection_attack_detection_and_prevention\n",
    "\n",
    "attackers come up with new techniques all the time. "
   ]
  },
  {
   "cell_type": "code",
   "execution_count": 1,
   "id": "934b9ae7",
   "metadata": {
    "execution": {
     "iopub.execute_input": "2024-05-02T14:42:02.020508Z",
     "iopub.status.busy": "2024-05-02T14:42:02.020108Z",
     "iopub.status.idle": "2024-05-02T14:42:03.065432Z",
     "shell.execute_reply": "2024-05-02T14:42:03.064361Z"
    },
    "papermill": {
     "duration": 1.05247,
     "end_time": "2024-05-02T14:42:03.068467",
     "exception": false,
     "start_time": "2024-05-02T14:42:02.015997",
     "status": "completed"
    },
    "tags": []
   },
   "outputs": [],
   "source": [
    "import numpy as np \n",
    "import pandas as pd \n",
    "import os"
   ]
  },
  {
   "cell_type": "code",
   "execution_count": 2,
   "id": "100b2c8d",
   "metadata": {
    "_cell_guid": "b1076dfc-b9ad-4769-8c92-a6c4dae69d19",
    "_uuid": "8f2839f25d086af736a60e9eeb907d3b93b6e0e5",
    "execution": {
     "iopub.execute_input": "2024-05-02T14:42:03.075953Z",
     "iopub.status.busy": "2024-05-02T14:42:03.075389Z",
     "iopub.status.idle": "2024-05-02T14:42:03.089725Z",
     "shell.execute_reply": "2024-05-02T14:42:03.088402Z"
    },
    "papermill": {
     "duration": 0.021088,
     "end_time": "2024-05-02T14:42:03.092443",
     "exception": false,
     "start_time": "2024-05-02T14:42:03.071355",
     "status": "completed"
    },
    "tags": []
   },
   "outputs": [
    {
     "name": "stdout",
     "output_type": "stream",
     "text": [
      "/kaggle/input/sql-injection-dataset/sqliv2.csv\n",
      "/kaggle/input/sql-injection-dataset/sqli.csv\n",
      "/kaggle/input/sql-injection-dataset/SQLiV3.csv\n"
     ]
    }
   ],
   "source": [
    "for dirname, _, filenames in os.walk('/kaggle/input'):\n",
    "    for filename in filenames:\n",
    "        print(os.path.join(dirname, filename))"
   ]
  }
 ],
 "metadata": {
  "kaggle": {
   "accelerator": "none",
   "dataSources": [
    {
     "datasetId": 538306,
     "sourceId": 2600626,
     "sourceType": "datasetVersion"
    }
   ],
   "dockerImageVersionId": 30698,
   "isGpuEnabled": false,
   "isInternetEnabled": true,
   "language": "python",
   "sourceType": "notebook"
  },
  "kernelspec": {
   "display_name": "Python 3",
   "language": "python",
   "name": "python3"
  },
  "language_info": {
   "codemirror_mode": {
    "name": "ipython",
    "version": 3
   },
   "file_extension": ".py",
   "mimetype": "text/x-python",
   "name": "python",
   "nbconvert_exporter": "python",
   "pygments_lexer": "ipython3",
   "version": "3.10.13"
  },
  "papermill": {
   "default_parameters": {},
   "duration": 4.90886,
   "end_time": "2024-05-02T14:42:03.617199",
   "environment_variables": {},
   "exception": null,
   "input_path": "__notebook__.ipynb",
   "output_path": "__notebook__.ipynb",
   "parameters": {},
   "start_time": "2024-05-02T14:41:58.708339",
   "version": "2.5.0"
  }
 },
 "nbformat": 4,
 "nbformat_minor": 5
}
