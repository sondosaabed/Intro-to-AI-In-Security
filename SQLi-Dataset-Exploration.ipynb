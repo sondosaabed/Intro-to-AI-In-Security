{
 "cells": [
  {
   "cell_type": "markdown",
   "id": "555604c1",
   "metadata": {
    "papermill": {
     "duration": 0.003834,
     "end_time": "2024-05-02T15:12:58.104096",
     "exception": false,
     "start_time": "2024-05-02T15:12:58.100262",
     "status": "completed"
    },
    "tags": []
   },
   "source": [
    "## SQLi Dataset Exploration"
   ]
  },
  {
   "cell_type": "markdown",
   "id": "747484fe",
   "metadata": {
    "papermill": {
     "duration": 0.00306,
     "end_time": "2024-05-02T15:12:58.110809",
     "exception": false,
     "start_time": "2024-05-02T15:12:58.107749",
     "status": "completed"
    },
    "tags": []
   },
   "source": [
    "### Objectives\n",
    "- Learn about SQL injections.\n",
    "- Explore SQLi techniques"
   ]
  },
  {
   "cell_type": "markdown",
   "id": "8ceebf14",
   "metadata": {
    "papermill": {
     "duration": 0.003049,
     "end_time": "2024-05-02T15:12:58.117216",
     "exception": false,
     "start_time": "2024-05-02T15:12:58.114167",
     "status": "completed"
    },
    "tags": []
   },
   "source": [
    "### Theory\n",
    "\n",
    "The **SQL injection** is a code injection technique used to attack data-driven applications, in which malicious SQL statements are inserted in a way that it is executed.\n",
    "\n",
    "There are diffrent **types of SQL injection attacks**:\n",
    "- **Union-based SQLi:** 2 or more SQLi queries combined.\n",
    "- **Error-based SQLi:** invalid query input that causes failure\n",
    "- **Blind-based SQLi:** attacker choses moves based ib questions asked for the database (a type of DDos attacks) and it's the worse between the 3 of them.\n",
    "\n",
    "![image](https://github.com/sondosaabed/Intro-to-GAN/assets/65151701/30662fc6-fa83-45d0-88bc-4fe4e2f0b396)\n",
    "\n",
    "sources: https://www.researchgate.net/publication/364935556_A_comprehensive_review_of_methods_for_SQL_injection_attack_detection_and_prevention\n",
    "\n",
    "attackers come up with new techniques all the time. "
   ]
  },
  {
   "cell_type": "markdown",
   "id": "fcb4a004",
   "metadata": {
    "papermill": {
     "duration": 0.002977,
     "end_time": "2024-05-02T15:12:58.123504",
     "exception": false,
     "start_time": "2024-05-02T15:12:58.120527",
     "status": "completed"
    },
    "tags": []
   },
   "source": [
    "### Dataset Exploration"
   ]
  },
  {
   "cell_type": "code",
   "execution_count": 1,
   "id": "39cb1fd2",
   "metadata": {
    "execution": {
     "iopub.execute_input": "2024-05-02T15:12:58.131970Z",
     "iopub.status.busy": "2024-05-02T15:12:58.131549Z",
     "iopub.status.idle": "2024-05-02T15:12:59.000369Z",
     "shell.execute_reply": "2024-05-02T15:12:58.999235Z"
    },
    "papermill": {
     "duration": 0.87598,
     "end_time": "2024-05-02T15:12:59.002876",
     "exception": false,
     "start_time": "2024-05-02T15:12:58.126896",
     "status": "completed"
    },
    "tags": []
   },
   "outputs": [],
   "source": [
    "import numpy as np \n",
    "import pandas as pd \n",
    "import os"
   ]
  },
  {
   "cell_type": "markdown",
   "id": "40dbe5c6",
   "metadata": {
    "papermill": {
     "duration": 0.003179,
     "end_time": "2024-05-02T15:12:59.009585",
     "exception": false,
     "start_time": "2024-05-02T15:12:59.006406",
     "status": "completed"
    },
    "tags": []
   },
   "source": [
    "- Loading the dataset into a dataframe"
   ]
  },
  {
   "cell_type": "code",
   "execution_count": 2,
   "id": "dabb83a2",
   "metadata": {
    "_cell_guid": "b1076dfc-b9ad-4769-8c92-a6c4dae69d19",
    "_uuid": "8f2839f25d086af736a60e9eeb907d3b93b6e0e5",
    "execution": {
     "iopub.execute_input": "2024-05-02T15:12:59.018223Z",
     "iopub.status.busy": "2024-05-02T15:12:59.017715Z",
     "iopub.status.idle": "2024-05-02T15:12:59.141917Z",
     "shell.execute_reply": "2024-05-02T15:12:59.140746Z"
    },
    "papermill": {
     "duration": 0.131619,
     "end_time": "2024-05-02T15:12:59.144561",
     "exception": false,
     "start_time": "2024-05-02T15:12:59.012942",
     "status": "completed"
    },
    "tags": []
   },
   "outputs": [],
   "source": [
    "df = pd.read_csv(\"/kaggle/input/sql-injection-dataset/SQLiV3.csv\")"
   ]
  },
  {
   "cell_type": "markdown",
   "id": "85ee38fc",
   "metadata": {
    "papermill": {
     "duration": 0.003059,
     "end_time": "2024-05-02T15:12:59.151097",
     "exception": false,
     "start_time": "2024-05-02T15:12:59.148038",
     "status": "completed"
    },
    "tags": []
   },
   "source": [
    "- Exploring the dataset"
   ]
  },
  {
   "cell_type": "code",
   "execution_count": 3,
   "id": "a94cc2c4",
   "metadata": {
    "execution": {
     "iopub.execute_input": "2024-05-02T15:12:59.160087Z",
     "iopub.status.busy": "2024-05-02T15:12:59.159025Z",
     "iopub.status.idle": "2024-05-02T15:12:59.165597Z",
     "shell.execute_reply": "2024-05-02T15:12:59.164480Z"
    },
    "papermill": {
     "duration": 0.013502,
     "end_time": "2024-05-02T15:12:59.167903",
     "exception": false,
     "start_time": "2024-05-02T15:12:59.154401",
     "status": "completed"
    },
    "tags": []
   },
   "outputs": [],
   "source": [
    "def missing_values(df):\n",
    "    \"\"\"\n",
    "    This is to get the percetages of missing data\n",
    "    Args:\n",
    "        df (pd.Dataframe): contains the data\n",
    "    Returns:\n",
    "        missing_percetanges(pd.Dataframe): contains Column,\tCounts, and\tPercentage\n",
    "            of the missing values for eah colmn\n",
    "    \"\"\"\n",
    "    missing_count = df.isnull().sum()\n",
    "    missing_percetanges = pd.DataFrame({\n",
    "        'Column': missing_count.index,\n",
    "        'Counts': missing_count.values,\n",
    "        'Percentage': missing_count.values / len(df) * 100  \n",
    "    })\n",
    "    return  missing_percetanges"
   ]
  },
  {
   "cell_type": "code",
   "execution_count": 4,
   "id": "01587a93",
   "metadata": {
    "execution": {
     "iopub.execute_input": "2024-05-02T15:12:59.176578Z",
     "iopub.status.busy": "2024-05-02T15:12:59.176182Z",
     "iopub.status.idle": "2024-05-02T15:12:59.183185Z",
     "shell.execute_reply": "2024-05-02T15:12:59.182027Z"
    },
    "papermill": {
     "duration": 0.014073,
     "end_time": "2024-05-02T15:12:59.185402",
     "exception": false,
     "start_time": "2024-05-02T15:12:59.171329",
     "status": "completed"
    },
    "tags": []
   },
   "outputs": [],
   "source": [
    "def explore_sample(sample):\n",
    "    \"\"\"\n",
    "    Exploring a dataset sample\n",
    "    Args:\n",
    "        sample (pd.Dataframe): the dataset sample to explore.\n",
    "    Returns:\n",
    "        results (dict): containing results of each exploration with the title as key\n",
    "    \"\"\"\n",
    "    head = pd.DataFrame(sample.head())\n",
    "    tail = pd.DataFrame(sample.tail())\n",
    "    nunique = pd.DataFrame(sample.nunique(), columns=[\"#_of_Unique\"])\n",
    "    describe = pd.DataFrame(sample.describe())\n",
    "    dtypes =  pd.DataFrame(sample.dtypes, columns=[\"Datatype\"])\n",
    "    results = {\n",
    "        'Table 3: Dataset Head:':head,\n",
    "        'Table 4: Dataset Tail:':tail,\n",
    "        'Table 5: Dataset Numerical Describtion: ':describe,\n",
    "        'Table 6: Missing Values By Percentage': missing_values(sample), \n",
    "        'Table 7: Dataset Columns Data types: ':dtypes,\n",
    "        'Table 8: Number of uniques in the datasets:':nunique}\n",
    "    return results"
   ]
  },
  {
   "cell_type": "code",
   "execution_count": 5,
   "id": "fd3fa902",
   "metadata": {
    "execution": {
     "iopub.execute_input": "2024-05-02T15:12:59.193831Z",
     "iopub.status.busy": "2024-05-02T15:12:59.193406Z",
     "iopub.status.idle": "2024-05-02T15:12:59.199461Z",
     "shell.execute_reply": "2024-05-02T15:12:59.198346Z"
    },
    "papermill": {
     "duration": 0.012978,
     "end_time": "2024-05-02T15:12:59.201784",
     "exception": false,
     "start_time": "2024-05-02T15:12:59.188806",
     "status": "completed"
    },
    "tags": []
   },
   "outputs": [],
   "source": [
    "def print_dataset_exploration(results):\n",
    "    \"\"\"\n",
    "    Prints a beautufil display of each of the exploration dataframe\n",
    "    Args:\n",
    "        results (dict): contains exploration outputs with the title as key\n",
    "    Returns:\n",
    "        nothing\n",
    "    \"\"\"\n",
    "    for operation, dataframe in results.items():\n",
    "        print(f\"{operation}\")\n",
    "        if operation == 'Table 6: Missing Values By Percentage':\n",
    "            print(\"Total Sum of Missing Percetange: \", dataframe['Percentage'].sum())\n",
    "        display(dataframe)"
   ]
  },
  {
   "cell_type": "code",
   "execution_count": 6,
   "id": "3d3ca76f",
   "metadata": {
    "execution": {
     "iopub.execute_input": "2024-05-02T15:12:59.210525Z",
     "iopub.status.busy": "2024-05-02T15:12:59.209737Z",
     "iopub.status.idle": "2024-05-02T15:12:59.293180Z",
     "shell.execute_reply": "2024-05-02T15:12:59.292035Z"
    },
    "papermill": {
     "duration": 0.090877,
     "end_time": "2024-05-02T15:12:59.296078",
     "exception": false,
     "start_time": "2024-05-02T15:12:59.205201",
     "status": "completed"
    },
    "tags": []
   },
   "outputs": [
    {
     "name": "stdout",
     "output_type": "stream",
     "text": [
      "Table 3: Dataset Head:\n"
     ]
    },
    {
     "data": {
      "text/html": [
       "<div>\n",
       "<style scoped>\n",
       "    .dataframe tbody tr th:only-of-type {\n",
       "        vertical-align: middle;\n",
       "    }\n",
       "\n",
       "    .dataframe tbody tr th {\n",
       "        vertical-align: top;\n",
       "    }\n",
       "\n",
       "    .dataframe thead th {\n",
       "        text-align: right;\n",
       "    }\n",
       "</style>\n",
       "<table border=\"1\" class=\"dataframe\">\n",
       "  <thead>\n",
       "    <tr style=\"text-align: right;\">\n",
       "      <th></th>\n",
       "      <th>Sentence</th>\n",
       "      <th>Label</th>\n",
       "      <th>Unnamed: 2</th>\n",
       "      <th>Unnamed: 3</th>\n",
       "    </tr>\n",
       "  </thead>\n",
       "  <tbody>\n",
       "    <tr>\n",
       "      <th>0</th>\n",
       "      <td>\" or pg_sleep  (  __TIME__  )  --</td>\n",
       "      <td>1</td>\n",
       "      <td>NaN</td>\n",
       "      <td>NaN</td>\n",
       "    </tr>\n",
       "    <tr>\n",
       "      <th>1</th>\n",
       "      <td>create user name identified by pass123 tempora...</td>\n",
       "      <td>NaN</td>\n",
       "      <td>1</td>\n",
       "      <td>NaN</td>\n",
       "    </tr>\n",
       "    <tr>\n",
       "      <th>2</th>\n",
       "      <td>AND 1  =  utl_inaddr.get_host_address   (    ...</td>\n",
       "      <td>1</td>\n",
       "      <td>NaN</td>\n",
       "      <td>NaN</td>\n",
       "    </tr>\n",
       "    <tr>\n",
       "      <th>3</th>\n",
       "      <td>select * from users where id  =  '1' or @ @1 ...</td>\n",
       "      <td>1</td>\n",
       "      <td>NaN</td>\n",
       "      <td>NaN</td>\n",
       "    </tr>\n",
       "    <tr>\n",
       "      <th>4</th>\n",
       "      <td>select * from users where id  =  1 or 1#\"  ( ...</td>\n",
       "      <td>1</td>\n",
       "      <td>NaN</td>\n",
       "      <td>NaN</td>\n",
       "    </tr>\n",
       "  </tbody>\n",
       "</table>\n",
       "</div>"
      ],
      "text/plain": [
       "                                            Sentence Label Unnamed: 2  \\\n",
       "0                  \" or pg_sleep  (  __TIME__  )  --     1        NaN   \n",
       "1  create user name identified by pass123 tempora...   NaN          1   \n",
       "2   AND 1  =  utl_inaddr.get_host_address   (    ...     1        NaN   \n",
       "3   select * from users where id  =  '1' or @ @1 ...     1        NaN   \n",
       "4   select * from users where id  =  1 or 1#\"  ( ...     1        NaN   \n",
       "\n",
       "   Unnamed: 3  \n",
       "0         NaN  \n",
       "1         NaN  \n",
       "2         NaN  \n",
       "3         NaN  \n",
       "4         NaN  "
      ]
     },
     "metadata": {},
     "output_type": "display_data"
    },
    {
     "name": "stdout",
     "output_type": "stream",
     "text": [
      "Table 4: Dataset Tail:\n"
     ]
    },
    {
     "data": {
      "text/html": [
       "<div>\n",
       "<style scoped>\n",
       "    .dataframe tbody tr th:only-of-type {\n",
       "        vertical-align: middle;\n",
       "    }\n",
       "\n",
       "    .dataframe tbody tr th {\n",
       "        vertical-align: top;\n",
       "    }\n",
       "\n",
       "    .dataframe thead th {\n",
       "        text-align: right;\n",
       "    }\n",
       "</style>\n",
       "<table border=\"1\" class=\"dataframe\">\n",
       "  <thead>\n",
       "    <tr style=\"text-align: right;\">\n",
       "      <th></th>\n",
       "      <th>Sentence</th>\n",
       "      <th>Label</th>\n",
       "      <th>Unnamed: 2</th>\n",
       "      <th>Unnamed: 3</th>\n",
       "    </tr>\n",
       "  </thead>\n",
       "  <tbody>\n",
       "    <tr>\n",
       "      <th>30914</th>\n",
       "      <td>DELETE FROM door WHERE grow = 'small'</td>\n",
       "      <td>0</td>\n",
       "      <td>NaN</td>\n",
       "      <td>NaN</td>\n",
       "    </tr>\n",
       "    <tr>\n",
       "      <th>30915</th>\n",
       "      <td>DELETE FROM tomorrow</td>\n",
       "      <td>0</td>\n",
       "      <td>NaN</td>\n",
       "      <td>NaN</td>\n",
       "    </tr>\n",
       "    <tr>\n",
       "      <th>30916</th>\n",
       "      <td>SELECT wide ( s )  FROM west</td>\n",
       "      <td>0</td>\n",
       "      <td>NaN</td>\n",
       "      <td>NaN</td>\n",
       "    </tr>\n",
       "    <tr>\n",
       "      <th>30917</th>\n",
       "      <td>SELECT * FROM  ( SELECT slide FROM breath )</td>\n",
       "      <td>0</td>\n",
       "      <td>NaN</td>\n",
       "      <td>NaN</td>\n",
       "    </tr>\n",
       "    <tr>\n",
       "      <th>30918</th>\n",
       "      <td>SELECT TOP 3 * FROM race</td>\n",
       "      <td>0</td>\n",
       "      <td>NaN</td>\n",
       "      <td>NaN</td>\n",
       "    </tr>\n",
       "  </tbody>\n",
       "</table>\n",
       "</div>"
      ],
      "text/plain": [
       "                                           Sentence Label Unnamed: 2  \\\n",
       "30914         DELETE FROM door WHERE grow = 'small'     0        NaN   \n",
       "30915                          DELETE FROM tomorrow     0        NaN   \n",
       "30916                  SELECT wide ( s )  FROM west     0        NaN   \n",
       "30917  SELECT * FROM  ( SELECT slide FROM breath )      0        NaN   \n",
       "30918                      SELECT TOP 3 * FROM race     0        NaN   \n",
       "\n",
       "       Unnamed: 3  \n",
       "30914         NaN  \n",
       "30915         NaN  \n",
       "30916         NaN  \n",
       "30917         NaN  \n",
       "30918         NaN  "
      ]
     },
     "metadata": {},
     "output_type": "display_data"
    },
    {
     "name": "stdout",
     "output_type": "stream",
     "text": [
      "Table 5: Dataset Numerical Describtion: \n"
     ]
    },
    {
     "data": {
      "text/html": [
       "<div>\n",
       "<style scoped>\n",
       "    .dataframe tbody tr th:only-of-type {\n",
       "        vertical-align: middle;\n",
       "    }\n",
       "\n",
       "    .dataframe tbody tr th {\n",
       "        vertical-align: top;\n",
       "    }\n",
       "\n",
       "    .dataframe thead th {\n",
       "        text-align: right;\n",
       "    }\n",
       "</style>\n",
       "<table border=\"1\" class=\"dataframe\">\n",
       "  <thead>\n",
       "    <tr style=\"text-align: right;\">\n",
       "      <th></th>\n",
       "      <th>Unnamed: 3</th>\n",
       "    </tr>\n",
       "  </thead>\n",
       "  <tbody>\n",
       "    <tr>\n",
       "      <th>count</th>\n",
       "      <td>9.000000</td>\n",
       "    </tr>\n",
       "    <tr>\n",
       "      <th>mean</th>\n",
       "      <td>0.222222</td>\n",
       "    </tr>\n",
       "    <tr>\n",
       "      <th>std</th>\n",
       "      <td>0.440959</td>\n",
       "    </tr>\n",
       "    <tr>\n",
       "      <th>min</th>\n",
       "      <td>0.000000</td>\n",
       "    </tr>\n",
       "    <tr>\n",
       "      <th>25%</th>\n",
       "      <td>0.000000</td>\n",
       "    </tr>\n",
       "    <tr>\n",
       "      <th>50%</th>\n",
       "      <td>0.000000</td>\n",
       "    </tr>\n",
       "    <tr>\n",
       "      <th>75%</th>\n",
       "      <td>0.000000</td>\n",
       "    </tr>\n",
       "    <tr>\n",
       "      <th>max</th>\n",
       "      <td>1.000000</td>\n",
       "    </tr>\n",
       "  </tbody>\n",
       "</table>\n",
       "</div>"
      ],
      "text/plain": [
       "       Unnamed: 3\n",
       "count    9.000000\n",
       "mean     0.222222\n",
       "std      0.440959\n",
       "min      0.000000\n",
       "25%      0.000000\n",
       "50%      0.000000\n",
       "75%      0.000000\n",
       "max      1.000000"
      ]
     },
     "metadata": {},
     "output_type": "display_data"
    },
    {
     "name": "stdout",
     "output_type": "stream",
     "text": [
      "Table 6: Missing Values By Percentage\n",
      "Total Sum of Missing Percetange:  199.85445842362302\n"
     ]
    },
    {
     "data": {
      "text/html": [
       "<div>\n",
       "<style scoped>\n",
       "    .dataframe tbody tr th:only-of-type {\n",
       "        vertical-align: middle;\n",
       "    }\n",
       "\n",
       "    .dataframe tbody tr th {\n",
       "        vertical-align: top;\n",
       "    }\n",
       "\n",
       "    .dataframe thead th {\n",
       "        text-align: right;\n",
       "    }\n",
       "</style>\n",
       "<table border=\"1\" class=\"dataframe\">\n",
       "  <thead>\n",
       "    <tr style=\"text-align: right;\">\n",
       "      <th></th>\n",
       "      <th>Column</th>\n",
       "      <th>Counts</th>\n",
       "      <th>Percentage</th>\n",
       "    </tr>\n",
       "  </thead>\n",
       "  <tbody>\n",
       "    <tr>\n",
       "      <th>0</th>\n",
       "      <td>Sentence</td>\n",
       "      <td>15</td>\n",
       "      <td>0.048514</td>\n",
       "    </tr>\n",
       "    <tr>\n",
       "      <th>1</th>\n",
       "      <td>Label</td>\n",
       "      <td>255</td>\n",
       "      <td>0.824736</td>\n",
       "    </tr>\n",
       "    <tr>\n",
       "      <th>2</th>\n",
       "      <td>Unnamed: 2</td>\n",
       "      <td>30613</td>\n",
       "      <td>99.010317</td>\n",
       "    </tr>\n",
       "    <tr>\n",
       "      <th>3</th>\n",
       "      <td>Unnamed: 3</td>\n",
       "      <td>30910</td>\n",
       "      <td>99.970892</td>\n",
       "    </tr>\n",
       "  </tbody>\n",
       "</table>\n",
       "</div>"
      ],
      "text/plain": [
       "       Column  Counts  Percentage\n",
       "0    Sentence      15    0.048514\n",
       "1       Label     255    0.824736\n",
       "2  Unnamed: 2   30613   99.010317\n",
       "3  Unnamed: 3   30910   99.970892"
      ]
     },
     "metadata": {},
     "output_type": "display_data"
    },
    {
     "name": "stdout",
     "output_type": "stream",
     "text": [
      "Table 7: Dataset Columns Data types: \n"
     ]
    },
    {
     "data": {
      "text/html": [
       "<div>\n",
       "<style scoped>\n",
       "    .dataframe tbody tr th:only-of-type {\n",
       "        vertical-align: middle;\n",
       "    }\n",
       "\n",
       "    .dataframe tbody tr th {\n",
       "        vertical-align: top;\n",
       "    }\n",
       "\n",
       "    .dataframe thead th {\n",
       "        text-align: right;\n",
       "    }\n",
       "</style>\n",
       "<table border=\"1\" class=\"dataframe\">\n",
       "  <thead>\n",
       "    <tr style=\"text-align: right;\">\n",
       "      <th></th>\n",
       "      <th>Datatype</th>\n",
       "    </tr>\n",
       "  </thead>\n",
       "  <tbody>\n",
       "    <tr>\n",
       "      <th>Sentence</th>\n",
       "      <td>object</td>\n",
       "    </tr>\n",
       "    <tr>\n",
       "      <th>Label</th>\n",
       "      <td>object</td>\n",
       "    </tr>\n",
       "    <tr>\n",
       "      <th>Unnamed: 2</th>\n",
       "      <td>object</td>\n",
       "    </tr>\n",
       "    <tr>\n",
       "      <th>Unnamed: 3</th>\n",
       "      <td>float64</td>\n",
       "    </tr>\n",
       "  </tbody>\n",
       "</table>\n",
       "</div>"
      ],
      "text/plain": [
       "           Datatype\n",
       "Sentence     object\n",
       "Label        object\n",
       "Unnamed: 2   object\n",
       "Unnamed: 3  float64"
      ]
     },
     "metadata": {},
     "output_type": "display_data"
    },
    {
     "name": "stdout",
     "output_type": "stream",
     "text": [
      "Table 8: Number of uniques in the datasets:\n"
     ]
    },
    {
     "data": {
      "text/html": [
       "<div>\n",
       "<style scoped>\n",
       "    .dataframe tbody tr th:only-of-type {\n",
       "        vertical-align: middle;\n",
       "    }\n",
       "\n",
       "    .dataframe tbody tr th {\n",
       "        vertical-align: top;\n",
       "    }\n",
       "\n",
       "    .dataframe thead th {\n",
       "        text-align: right;\n",
       "    }\n",
       "</style>\n",
       "<table border=\"1\" class=\"dataframe\">\n",
       "  <thead>\n",
       "    <tr style=\"text-align: right;\">\n",
       "      <th></th>\n",
       "      <th>#_of_Unique</th>\n",
       "    </tr>\n",
       "  </thead>\n",
       "  <tbody>\n",
       "    <tr>\n",
       "      <th>Sentence</th>\n",
       "      <td>30872</td>\n",
       "    </tr>\n",
       "    <tr>\n",
       "      <th>Label</th>\n",
       "      <td>42</td>\n",
       "    </tr>\n",
       "    <tr>\n",
       "      <th>Unnamed: 2</th>\n",
       "      <td>6</td>\n",
       "    </tr>\n",
       "    <tr>\n",
       "      <th>Unnamed: 3</th>\n",
       "      <td>2</td>\n",
       "    </tr>\n",
       "  </tbody>\n",
       "</table>\n",
       "</div>"
      ],
      "text/plain": [
       "            #_of_Unique\n",
       "Sentence          30872\n",
       "Label                42\n",
       "Unnamed: 2            6\n",
       "Unnamed: 3            2"
      ]
     },
     "metadata": {},
     "output_type": "display_data"
    }
   ],
   "source": [
    "results = explore_sample(df)\n",
    "print_dataset_exploration(results)"
   ]
  }
 ],
 "metadata": {
  "kaggle": {
   "accelerator": "none",
   "dataSources": [
    {
     "datasetId": 538306,
     "sourceId": 2600626,
     "sourceType": "datasetVersion"
    }
   ],
   "dockerImageVersionId": 30698,
   "isGpuEnabled": false,
   "isInternetEnabled": true,
   "language": "python",
   "sourceType": "notebook"
  },
  "kernelspec": {
   "display_name": "Python 3",
   "language": "python",
   "name": "python3"
  },
  "language_info": {
   "codemirror_mode": {
    "name": "ipython",
    "version": 3
   },
   "file_extension": ".py",
   "mimetype": "text/x-python",
   "name": "python",
   "nbconvert_exporter": "python",
   "pygments_lexer": "ipython3",
   "version": "3.10.13"
  },
  "papermill": {
   "default_parameters": {},
   "duration": 4.479799,
   "end_time": "2024-05-02T15:12:59.820985",
   "environment_variables": {},
   "exception": null,
   "input_path": "__notebook__.ipynb",
   "output_path": "__notebook__.ipynb",
   "parameters": {},
   "start_time": "2024-05-02T15:12:55.341186",
   "version": "2.5.0"
  }
 },
 "nbformat": 4,
 "nbformat_minor": 5
}
