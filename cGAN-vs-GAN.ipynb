{
 "cells": [
  {
   "cell_type": "markdown",
   "id": "a526d637",
   "metadata": {
    "papermill": {
     "duration": 0.003223,
     "end_time": "2024-05-01T14:14:34.965203",
     "exception": false,
     "start_time": "2024-05-01T14:14:34.961980",
     "status": "completed"
    },
    "tags": []
   },
   "source": [
    "# Generative Adversarial Networks (GAN)"
   ]
  },
  {
   "cell_type": "markdown",
   "id": "9153a5f0",
   "metadata": {
    "papermill": {
     "duration": 0.002492,
     "end_time": "2024-05-01T14:14:34.970748",
     "exception": false,
     "start_time": "2024-05-01T14:14:34.968256",
     "status": "completed"
    },
    "tags": []
   },
   "source": [
    "## Objectives\n",
    "- To learn about GAN\n",
    "- To train a model using GAN\n",
    "- To train a model using cGAN\n",
    "- To make comparision"
   ]
  },
  {
   "cell_type": "markdown",
   "id": "2cf673c5",
   "metadata": {
    "papermill": {
     "duration": 0.002369,
     "end_time": "2024-05-01T14:14:34.975971",
     "exception": false,
     "start_time": "2024-05-01T14:14:34.973602",
     "status": "completed"
    },
    "tags": []
   },
   "source": [
    "## Theory\n",
    "**GAN:** using deep learning to train generative models. It has the archetcture of:\n",
    "- **Generator:** responsible for generating new plausabile examples that ideally indistingishable from real eaxamples in the dataset.\n",
    "- **Discriminator:** is responsible for classifting a given image as either real or fake.\n",
    "\n",
    "**Adversial:** zero-sum : improvemnets in the discrimiter come at the cost of reducing the capability of the generator.\n",
    "\n",
    "Image synthesis (GAN is effective).\n",
    "\n",
    "In the case that we make use of the labels:\n",
    "- Improve the GAN.\n",
    "- Targeted Generation.\n",
    "\n",
    "**The limitation of GAN:** (There is a relationship between points in the latent space to the generated images, but this relationship is complex and hard to map) it might generate random image from the domain.\n",
    "\n",
    "If we trainied it in such way that the descriminator and the generators are conditioned on the class label as an alternative. An example is genertaed number 9 from the digits dataset. It's called **cGAN**\n",
    "\n",
    "**Deep convolutional GAN (DCGAN):** stable traiing of GAN models. \n",
    "The conditional traininng of the DCGAN-based models may be reffered to as cDCGAN). \n",
    "\n",
    "Best practice to incorpiirate the class labels into the discriminator is using the embeding layer -> FC -> Linear activation."
   ]
  },
  {
   "cell_type": "markdown",
   "id": "0fbf3f2b",
   "metadata": {
    "papermill": {
     "duration": 0.002321,
     "end_time": "2024-05-01T14:14:34.980979",
     "exception": false,
     "start_time": "2024-05-01T14:14:34.978658",
     "status": "completed"
    },
    "tags": []
   },
   "source": [
    "Neccessary imports"
   ]
  },
  {
   "cell_type": "code",
   "execution_count": 1,
   "id": "2760ea47",
   "metadata": {
    "_cell_guid": "b1076dfc-b9ad-4769-8c92-a6c4dae69d19",
    "_uuid": "8f2839f25d086af736a60e9eeb907d3b93b6e0e5",
    "execution": {
     "iopub.execute_input": "2024-05-01T14:14:34.988498Z",
     "iopub.status.busy": "2024-05-01T14:14:34.988047Z",
     "iopub.status.idle": "2024-05-01T14:14:36.050987Z",
     "shell.execute_reply": "2024-05-01T14:14:36.049540Z"
    },
    "papermill": {
     "duration": 1.070512,
     "end_time": "2024-05-01T14:14:36.054072",
     "exception": false,
     "start_time": "2024-05-01T14:14:34.983560",
     "status": "completed"
    },
    "tags": []
   },
   "outputs": [],
   "source": [
    "import numpy as np \n",
    "import pandas as pd \n",
    "import os"
   ]
  },
  {
   "cell_type": "code",
   "execution_count": 2,
   "id": "758a24c6",
   "metadata": {
    "execution": {
     "iopub.execute_input": "2024-05-01T14:14:36.062602Z",
     "iopub.status.busy": "2024-05-01T14:14:36.061954Z",
     "iopub.status.idle": "2024-05-01T14:14:36.069237Z",
     "shell.execute_reply": "2024-05-01T14:14:36.067650Z"
    },
    "papermill": {
     "duration": 0.016305,
     "end_time": "2024-05-01T14:14:36.073604",
     "exception": false,
     "start_time": "2024-05-01T14:14:36.057299",
     "status": "completed"
    },
    "tags": []
   },
   "outputs": [],
   "source": [
    "for dirname, _, filenames in os.walk('/kaggle/input'):\n",
    "    for filename in filenames:\n",
    "        print(os.path.join(dirname, filename))"
   ]
  }
 ],
 "metadata": {
  "kaggle": {
   "accelerator": "none",
   "dataSources": [],
   "dockerImageVersionId": 30698,
   "isGpuEnabled": false,
   "isInternetEnabled": true,
   "language": "python",
   "sourceType": "notebook"
  },
  "kernelspec": {
   "display_name": "Python 3",
   "language": "python",
   "name": "python3"
  },
  "language_info": {
   "codemirror_mode": {
    "name": "ipython",
    "version": 3
   },
   "file_extension": ".py",
   "mimetype": "text/x-python",
   "name": "python",
   "nbconvert_exporter": "python",
   "pygments_lexer": "ipython3",
   "version": "3.10.13"
  },
  "papermill": {
   "default_parameters": {},
   "duration": 5.001208,
   "end_time": "2024-05-01T14:14:36.603608",
   "environment_variables": {},
   "exception": null,
   "input_path": "__notebook__.ipynb",
   "output_path": "__notebook__.ipynb",
   "parameters": {},
   "start_time": "2024-05-01T14:14:31.602400",
   "version": "2.5.0"
  }
 },
 "nbformat": 4,
 "nbformat_minor": 5
}
